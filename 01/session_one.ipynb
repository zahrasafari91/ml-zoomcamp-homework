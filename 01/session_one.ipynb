{
 "cells": [
  {
   "cell_type": "code",
   "execution_count": 3,
   "id": "0c1cdcd8-9c42-46c4-97a0-19d682935188",
   "metadata": {},
   "outputs": [],
   "source": [
    "import pandas as pd"
   ]
  },
  {
   "cell_type": "code",
   "execution_count": 4,
   "id": "a02d7527-881e-43ed-8ca0-5f7903fa7a16",
   "metadata": {},
   "outputs": [],
   "source": [
    "df = pd.read_csv('https://raw.githubusercontent.com/alexeygrigorev/datasets/master/car_fuel_efficiency.csv')"
   ]
  },
  {
   "cell_type": "code",
   "execution_count": 5,
   "id": "476cd040-6e11-4dad-8243-ef8989457fd3",
   "metadata": {},
   "outputs": [
    {
     "data": {
      "text/html": [
       "<div>\n",
       "<style scoped>\n",
       "    .dataframe tbody tr th:only-of-type {\n",
       "        vertical-align: middle;\n",
       "    }\n",
       "\n",
       "    .dataframe tbody tr th {\n",
       "        vertical-align: top;\n",
       "    }\n",
       "\n",
       "    .dataframe thead th {\n",
       "        text-align: right;\n",
       "    }\n",
       "</style>\n",
       "<table border=\"1\" class=\"dataframe\">\n",
       "  <thead>\n",
       "    <tr style=\"text-align: right;\">\n",
       "      <th></th>\n",
       "      <th>engine_displacement</th>\n",
       "      <th>num_cylinders</th>\n",
       "      <th>horsepower</th>\n",
       "      <th>vehicle_weight</th>\n",
       "      <th>acceleration</th>\n",
       "      <th>model_year</th>\n",
       "      <th>origin</th>\n",
       "      <th>fuel_type</th>\n",
       "      <th>drivetrain</th>\n",
       "      <th>num_doors</th>\n",
       "      <th>fuel_efficiency_mpg</th>\n",
       "    </tr>\n",
       "  </thead>\n",
       "  <tbody>\n",
       "    <tr>\n",
       "      <th>0</th>\n",
       "      <td>170</td>\n",
       "      <td>3.0</td>\n",
       "      <td>159.0</td>\n",
       "      <td>3413.433759</td>\n",
       "      <td>17.7</td>\n",
       "      <td>2003</td>\n",
       "      <td>Europe</td>\n",
       "      <td>Gasoline</td>\n",
       "      <td>All-wheel drive</td>\n",
       "      <td>0.0</td>\n",
       "      <td>13.231729</td>\n",
       "    </tr>\n",
       "    <tr>\n",
       "      <th>1</th>\n",
       "      <td>130</td>\n",
       "      <td>5.0</td>\n",
       "      <td>97.0</td>\n",
       "      <td>3149.664934</td>\n",
       "      <td>17.8</td>\n",
       "      <td>2007</td>\n",
       "      <td>USA</td>\n",
       "      <td>Gasoline</td>\n",
       "      <td>Front-wheel drive</td>\n",
       "      <td>0.0</td>\n",
       "      <td>13.688217</td>\n",
       "    </tr>\n",
       "    <tr>\n",
       "      <th>2</th>\n",
       "      <td>170</td>\n",
       "      <td>NaN</td>\n",
       "      <td>78.0</td>\n",
       "      <td>3079.038997</td>\n",
       "      <td>15.1</td>\n",
       "      <td>2018</td>\n",
       "      <td>Europe</td>\n",
       "      <td>Gasoline</td>\n",
       "      <td>Front-wheel drive</td>\n",
       "      <td>0.0</td>\n",
       "      <td>14.246341</td>\n",
       "    </tr>\n",
       "    <tr>\n",
       "      <th>3</th>\n",
       "      <td>220</td>\n",
       "      <td>4.0</td>\n",
       "      <td>NaN</td>\n",
       "      <td>2542.392402</td>\n",
       "      <td>20.2</td>\n",
       "      <td>2009</td>\n",
       "      <td>USA</td>\n",
       "      <td>Diesel</td>\n",
       "      <td>All-wheel drive</td>\n",
       "      <td>2.0</td>\n",
       "      <td>16.912736</td>\n",
       "    </tr>\n",
       "    <tr>\n",
       "      <th>4</th>\n",
       "      <td>210</td>\n",
       "      <td>1.0</td>\n",
       "      <td>140.0</td>\n",
       "      <td>3460.870990</td>\n",
       "      <td>14.4</td>\n",
       "      <td>2009</td>\n",
       "      <td>Europe</td>\n",
       "      <td>Gasoline</td>\n",
       "      <td>All-wheel drive</td>\n",
       "      <td>2.0</td>\n",
       "      <td>12.488369</td>\n",
       "    </tr>\n",
       "  </tbody>\n",
       "</table>\n",
       "</div>"
      ],
      "text/plain": [
       "   engine_displacement  num_cylinders  horsepower  vehicle_weight  \\\n",
       "0                  170            3.0       159.0     3413.433759   \n",
       "1                  130            5.0        97.0     3149.664934   \n",
       "2                  170            NaN        78.0     3079.038997   \n",
       "3                  220            4.0         NaN     2542.392402   \n",
       "4                  210            1.0       140.0     3460.870990   \n",
       "\n",
       "   acceleration  model_year  origin fuel_type         drivetrain  num_doors  \\\n",
       "0          17.7        2003  Europe  Gasoline    All-wheel drive        0.0   \n",
       "1          17.8        2007     USA  Gasoline  Front-wheel drive        0.0   \n",
       "2          15.1        2018  Europe  Gasoline  Front-wheel drive        0.0   \n",
       "3          20.2        2009     USA    Diesel    All-wheel drive        2.0   \n",
       "4          14.4        2009  Europe  Gasoline    All-wheel drive        2.0   \n",
       "\n",
       "   fuel_efficiency_mpg  \n",
       "0            13.231729  \n",
       "1            13.688217  \n",
       "2            14.246341  \n",
       "3            16.912736  \n",
       "4            12.488369  "
      ]
     },
     "execution_count": 5,
     "metadata": {},
     "output_type": "execute_result"
    }
   ],
   "source": [
    "df.head()"
   ]
  },
  {
   "cell_type": "markdown",
   "id": "77e57f37",
   "metadata": {},
   "source": [
    "# Creating Array --> one dementional"
   ]
  },
  {
   "cell_type": "code",
   "execution_count": 6,
   "id": "f39167dc-722b-497d-8d03-bf77a5af1535",
   "metadata": {},
   "outputs": [],
   "source": [
    "import numpy as np"
   ]
  },
  {
   "cell_type": "code",
   "execution_count": 7,
   "id": "0c3b05cf",
   "metadata": {},
   "outputs": [
    {
     "data": {
      "text/plain": [
       "array([0., 0., 0., 0., 0.])"
      ]
     },
     "execution_count": 7,
     "metadata": {},
     "output_type": "execute_result"
    }
   ],
   "source": [
    "np.zeros(5)"
   ]
  },
  {
   "cell_type": "code",
   "execution_count": 8,
   "id": "05ef510a",
   "metadata": {},
   "outputs": [
    {
     "data": {
      "text/plain": [
       "array([1., 1., 1., 1., 1.])"
      ]
     },
     "execution_count": 8,
     "metadata": {},
     "output_type": "execute_result"
    }
   ],
   "source": [
    "np.ones(5)"
   ]
  },
  {
   "cell_type": "code",
   "execution_count": 9,
   "id": "7a4b7bd8",
   "metadata": {},
   "outputs": [
    {
     "data": {
      "text/plain": [
       "array([2, 2, 2, 2, 2, 2, 2, 2, 2, 2])"
      ]
     },
     "execution_count": 9,
     "metadata": {},
     "output_type": "execute_result"
    }
   ],
   "source": [
    "np.full(10, 2)"
   ]
  },
  {
   "cell_type": "markdown",
   "id": "2d2dfeaa",
   "metadata": {},
   "source": [
    "# convert list to array "
   ]
  },
  {
   "cell_type": "code",
   "execution_count": 10,
   "id": "5e64e930",
   "metadata": {},
   "outputs": [
    {
     "data": {
      "text/plain": [
       "[1, 2, 3, 4, 5]"
      ]
     },
     "execution_count": 10,
     "metadata": {},
     "output_type": "execute_result"
    }
   ],
   "source": [
    "l = [1, 2, 3, 4, 5]\n",
    "l"
   ]
  },
  {
   "cell_type": "code",
   "execution_count": 11,
   "id": "2a139653",
   "metadata": {},
   "outputs": [
    {
     "data": {
      "text/plain": [
       "array([1, 2, 3, 4, 5])"
      ]
     },
     "execution_count": 11,
     "metadata": {},
     "output_type": "execute_result"
    }
   ],
   "source": [
    "a = np.array([1, 2, 3, 4, 5])\n",
    "a"
   ]
  },
  {
   "cell_type": "markdown",
   "id": "8fb519fa",
   "metadata": {},
   "source": [
    "# access an element of array --> a[index]"
   ]
  },
  {
   "cell_type": "code",
   "execution_count": 12,
   "id": "3e1c22b2",
   "metadata": {},
   "outputs": [
    {
     "data": {
      "text/plain": [
       "np.int64(3)"
      ]
     },
     "execution_count": 12,
     "metadata": {},
     "output_type": "execute_result"
    }
   ],
   "source": [
    "a[2]"
   ]
  },
  {
   "cell_type": "markdown",
   "id": "6c7b7baf",
   "metadata": {},
   "source": [
    "# change elements to sth else"
   ]
  },
  {
   "cell_type": "code",
   "execution_count": 13,
   "id": "c5b7e35f",
   "metadata": {},
   "outputs": [
    {
     "data": {
      "text/plain": [
       "array([ 1,  2, 10,  4,  5])"
      ]
     },
     "execution_count": 13,
     "metadata": {},
     "output_type": "execute_result"
    }
   ],
   "source": [
    "a[2] = 10\n",
    "a"
   ]
  },
  {
   "cell_type": "markdown",
   "id": "9e2bf351",
   "metadata": {},
   "source": [
    "# create a range from 0 to 9"
   ]
  },
  {
   "cell_type": "code",
   "execution_count": 14,
   "id": "9f3fe6aa",
   "metadata": {},
   "outputs": [
    {
     "data": {
      "text/plain": [
       "array([0, 1, 2, 3, 4, 5, 6, 7, 8, 9])"
      ]
     },
     "execution_count": 14,
     "metadata": {},
     "output_type": "execute_result"
    }
   ],
   "source": [
    "np.arange(10)"
   ]
  },
  {
   "cell_type": "markdown",
   "id": "9928fe56",
   "metadata": {},
   "source": [
    "# start from sth other than 0"
   ]
  },
  {
   "cell_type": "code",
   "execution_count": 15,
   "id": "9d5e0b6d",
   "metadata": {},
   "outputs": [
    {
     "data": {
      "text/plain": [
       "array([3, 4, 5, 6, 7, 8, 9])"
      ]
     },
     "execution_count": 15,
     "metadata": {},
     "output_type": "execute_result"
    }
   ],
   "source": [
    "np.arange(3, 10)"
   ]
  },
  {
   "cell_type": "markdown",
   "id": "ab4e3e92",
   "metadata": {},
   "source": [
    "# Create an arrays filled with numbers between firts and second parameters with size"
   ]
  },
  {
   "cell_type": "code",
   "execution_count": 16,
   "id": "d0624bf5",
   "metadata": {},
   "outputs": [
    {
     "data": {
      "text/plain": [
       "array([0.        , 0.11111111, 0.22222222, 0.33333333, 0.44444444,\n",
       "       0.55555556, 0.66666667, 0.77777778, 0.88888889, 1.        ])"
      ]
     },
     "execution_count": 16,
     "metadata": {},
     "output_type": "execute_result"
    }
   ],
   "source": [
    "np.linspace(0, 1, 10)"
   ]
  },
  {
   "cell_type": "markdown",
   "id": "f1af627e",
   "metadata": {},
   "source": [
    "# Multi-Dementional Array --> np.zeros((rows,columns))"
   ]
  },
  {
   "cell_type": "code",
   "execution_count": 17,
   "id": "8c920ed1",
   "metadata": {},
   "outputs": [
    {
     "data": {
      "text/plain": [
       "array([[0., 0.],\n",
       "       [0., 0.],\n",
       "       [0., 0.],\n",
       "       [0., 0.],\n",
       "       [0., 0.]])"
      ]
     },
     "execution_count": 17,
     "metadata": {},
     "output_type": "execute_result"
    }
   ],
   "source": [
    "np.zeros((5,2))"
   ]
  },
  {
   "cell_type": "markdown",
   "id": "1027f280",
   "metadata": {},
   "source": [
    "# Multi-Dementional Array from python List"
   ]
  },
  {
   "cell_type": "code",
   "execution_count": 18,
   "id": "59440a15",
   "metadata": {},
   "outputs": [],
   "source": [
    "n = np.array([\n",
    "    [1, 2, 3], \n",
    "    [4, 5, 6], \n",
    "    [7, 8, 9]\n",
    "    ])"
   ]
  },
  {
   "cell_type": "code",
   "execution_count": 66,
   "id": "259575f3",
   "metadata": {},
   "outputs": [
    {
     "data": {
      "text/plain": [
       "array([[10, 20, 30],\n",
       "       [ 4, 60,  6],\n",
       "       [ 7, 70,  9]])"
      ]
     },
     "execution_count": 66,
     "metadata": {},
     "output_type": "execute_result"
    }
   ],
   "source": [
    "n[0, 0] = 10\n",
    "n[0 , 1] = 20\n",
    "n"
   ]
  },
  {
   "cell_type": "markdown",
   "id": "83544dba",
   "metadata": {},
   "source": [
    "# Access row"
   ]
  },
  {
   "cell_type": "code",
   "execution_count": 20,
   "id": "52bf9234",
   "metadata": {},
   "outputs": [
    {
     "data": {
      "text/plain": [
       "array([ 1, 20,  3])"
      ]
     },
     "execution_count": 20,
     "metadata": {},
     "output_type": "execute_result"
    }
   ],
   "source": [
    "n[0]"
   ]
  },
  {
   "cell_type": "code",
   "execution_count": 21,
   "id": "fb5b98b9",
   "metadata": {},
   "outputs": [
    {
     "data": {
      "text/plain": [
       "array([[10, 20, 30],\n",
       "       [ 4,  5,  6],\n",
       "       [ 7,  8,  9]])"
      ]
     },
     "execution_count": 21,
     "metadata": {},
     "output_type": "execute_result"
    }
   ],
   "source": [
    "n[0] = [10, 20, 30]\n",
    "n"
   ]
  },
  {
   "cell_type": "markdown",
   "id": "30c8296e",
   "metadata": {},
   "source": [
    "# Access columns"
   ]
  },
  {
   "cell_type": "code",
   "execution_count": 22,
   "id": "185e6239",
   "metadata": {},
   "outputs": [
    {
     "data": {
      "text/plain": [
       "array([20,  5,  8])"
      ]
     },
     "execution_count": 22,
     "metadata": {},
     "output_type": "execute_result"
    }
   ],
   "source": [
    "n[:,1]"
   ]
  },
  {
   "cell_type": "code",
   "execution_count": 23,
   "id": "673fc02a",
   "metadata": {},
   "outputs": [
    {
     "data": {
      "text/plain": [
       "array([[10, 50, 30],\n",
       "       [ 4, 60,  6],\n",
       "       [ 7, 70,  9]])"
      ]
     },
     "execution_count": 23,
     "metadata": {},
     "output_type": "execute_result"
    }
   ],
   "source": [
    "n[: , 1] = [50, 60, 70]\n",
    "n"
   ]
  },
  {
   "cell_type": "markdown",
   "id": "a3d52ca1",
   "metadata": {},
   "source": [
    "# Randomly Generated Array"
   ]
  },
  {
   "cell_type": "code",
   "execution_count": 24,
   "id": "ddee74af",
   "metadata": {},
   "outputs": [
    {
     "data": {
      "text/plain": [
       "array([[0.4359949 , 0.02592623, 0.54966248],\n",
       "       [0.43532239, 0.4203678 , 0.33033482],\n",
       "       [0.20464863, 0.61927097, 0.29965467]])"
      ]
     },
     "execution_count": 24,
     "metadata": {},
     "output_type": "execute_result"
    }
   ],
   "source": [
    "np.random.seed(2) # if set seed, will always generate the same random numbers\n",
    "np.random.rand(3, 3) # returns random numbers from 0 to 1"
   ]
  },
  {
   "cell_type": "markdown",
   "id": "f01fca48",
   "metadata": {},
   "source": [
    "# define integer random array "
   ]
  },
  {
   "cell_type": "code",
   "execution_count": 25,
   "id": "8f49cba4",
   "metadata": {},
   "outputs": [
    {
     "data": {
      "text/plain": [
       "array([[26.68272751, 62.11338328, 52.91420943],\n",
       "       [13.45799453, 51.35781213, 18.44398656],\n",
       "       [78.53351478, 85.39752926, 49.42368374]])"
      ]
     },
     "execution_count": 25,
     "metadata": {},
     "output_type": "execute_result"
    }
   ],
   "source": [
    "100 * np.random.rand(3, 3) # returns random numbers from 0 to 100"
   ]
  },
  {
   "cell_type": "code",
   "execution_count": 26,
   "id": "e9c7db6e",
   "metadata": {},
   "outputs": [
    {
     "data": {
      "text/plain": [
       "array([[3, 5, 8],\n",
       "       [4, 6, 3],\n",
       "       [9, 2, 0]])"
      ]
     },
     "execution_count": 26,
     "metadata": {},
     "output_type": "execute_result"
    }
   ],
   "source": [
    "np.random.randint(low= 0, high=10, size=(3,3)) # random integers from 0 to 10"
   ]
  },
  {
   "cell_type": "markdown",
   "id": "1c7d990e",
   "metadata": {},
   "source": [
    "# Element-Wise Operations with Numpy\n",
    "# We want to add/Multiply/Devide/Subtract to all the elements of the array \n",
    "# in Python (like usual python list) we need to write a for loop but here numpy let us just simply add it"
   ]
  },
  {
   "cell_type": "code",
   "execution_count": 27,
   "id": "60303dc2",
   "metadata": {},
   "outputs": [
    {
     "data": {
      "text/plain": [
       "array([0, 1, 2, 3, 4])"
      ]
     },
     "execution_count": 27,
     "metadata": {},
     "output_type": "execute_result"
    }
   ],
   "source": [
    "a = np.arange(5)\n",
    "a"
   ]
  },
  {
   "cell_type": "code",
   "execution_count": 28,
   "id": "b2d2cfd1",
   "metadata": {},
   "outputs": [
    {
     "data": {
      "text/plain": [
       "array([1, 2, 3, 4, 5])"
      ]
     },
     "execution_count": 28,
     "metadata": {},
     "output_type": "execute_result"
    }
   ],
   "source": [
    "a + 1\n"
   ]
  },
  {
   "cell_type": "code",
   "execution_count": 29,
   "id": "6794c6ee",
   "metadata": {},
   "outputs": [
    {
     "data": {
      "text/plain": [
       "array([0, 2, 4, 6, 8])"
      ]
     },
     "execution_count": 29,
     "metadata": {},
     "output_type": "execute_result"
    }
   ],
   "source": [
    "a * 2"
   ]
  },
  {
   "cell_type": "markdown",
   "id": "6b118fce",
   "metadata": {},
   "source": [
    "# Compaision Operations"
   ]
  },
  {
   "cell_type": "code",
   "execution_count": 30,
   "id": "ba7540a8",
   "metadata": {},
   "outputs": [
    {
     "data": {
      "text/plain": [
       "array([False, False,  True,  True,  True])"
      ]
     },
     "execution_count": 30,
     "metadata": {},
     "output_type": "execute_result"
    }
   ],
   "source": [
    "a >= 2"
   ]
  },
  {
   "cell_type": "code",
   "execution_count": 31,
   "id": "fdca65cc",
   "metadata": {},
   "outputs": [
    {
     "data": {
      "text/plain": [
       "array([2, 3, 4])"
      ]
     },
     "execution_count": 31,
     "metadata": {},
     "output_type": "execute_result"
    }
   ],
   "source": [
    "a[a>= 2]"
   ]
  },
  {
   "cell_type": "markdown",
   "id": "81914edc",
   "metadata": {},
   "source": [
    "# Other Operations"
   ]
  },
  {
   "cell_type": "code",
   "execution_count": 32,
   "id": "3272d9a5",
   "metadata": {},
   "outputs": [
    {
     "data": {
      "text/plain": [
       "np.float64(1.4142135623730951)"
      ]
     },
     "execution_count": 32,
     "metadata": {},
     "output_type": "execute_result"
    }
   ],
   "source": [
    "a.min()\n",
    "a.max()\n",
    "a.sum()\n",
    "a.mean() # average\n",
    "a.std() # standard deviation"
   ]
  },
  {
   "cell_type": "markdown",
   "id": "2acfc84a",
   "metadata": {},
   "source": [
    "# Session 1.8 - linear Algebra"
   ]
  },
  {
   "cell_type": "code",
   "execution_count": 33,
   "id": "c38d78b6",
   "metadata": {},
   "outputs": [],
   "source": [
    "# vectore operations - Multiplication  - Matrix inverse"
   ]
  },
  {
   "cell_type": "code",
   "execution_count": 34,
   "id": "19935cf2",
   "metadata": {},
   "outputs": [
    {
     "data": {
      "text/plain": [
       "array([2, 4, 6])"
      ]
     },
     "execution_count": 34,
     "metadata": {},
     "output_type": "execute_result"
    }
   ],
   "source": [
    "a = np.array([1,2,3])\n",
    "x = 2 * a\n",
    "x"
   ]
  },
  {
   "cell_type": "code",
   "execution_count": 35,
   "id": "68f522e0",
   "metadata": {},
   "outputs": [
    {
     "data": {
      "text/plain": [
       "array([5, 7, 9])"
      ]
     },
     "execution_count": 35,
     "metadata": {},
     "output_type": "execute_result"
    }
   ],
   "source": [
    "b = np.array([4,5,6])\n",
    "\n",
    "a + b"
   ]
  },
  {
   "cell_type": "markdown",
   "id": "64b62938",
   "metadata": {},
   "source": [
    "# Multiplication"
   ]
  },
  {
   "cell_type": "code",
   "execution_count": 36,
   "id": "a707788d",
   "metadata": {},
   "outputs": [],
   "source": [
    "# 1. vectore - vectore multiplication - 2. Matrix - vectore multiplication - 3. Matrix - Matrix multiplication"
   ]
  },
  {
   "cell_type": "code",
   "execution_count": 37,
   "id": "32e83a67",
   "metadata": {},
   "outputs": [
    {
     "data": {
      "text/plain": [
       "array([ 4, 10, 18])"
      ]
     },
     "execution_count": 37,
     "metadata": {},
     "output_type": "execute_result"
    }
   ],
   "source": [
    "# this is element-wise multiplication but vector-vector multiplication is different and in linear algebra it is called dot product  \n",
    "a * b\n"
   ]
  },
  {
   "cell_type": "markdown",
   "id": "2d0cb9b5",
   "metadata": {},
   "source": [
    "# 1. vectore - vectore multiplication (dot/inner product)"
   ]
  },
  {
   "cell_type": "code",
   "execution_count": 38,
   "id": "bac429ea",
   "metadata": {},
   "outputs": [],
   "source": [
    "# two ways to do dot product : 1. for loop and 2. numpy function"
   ]
  },
  {
   "cell_type": "code",
   "execution_count": 39,
   "id": "0f7ea621",
   "metadata": {},
   "outputs": [
    {
     "data": {
      "text/plain": [
       "((3,), (3,))"
      ]
     },
     "execution_count": 39,
     "metadata": {},
     "output_type": "execute_result"
    }
   ],
   "source": [
    "a.shape, b.shape"
   ]
  },
  {
   "cell_type": "code",
   "execution_count": 40,
   "id": "655b0174",
   "metadata": {},
   "outputs": [
    {
     "data": {
      "text/plain": [
       "(3, 3)"
      ]
     },
     "execution_count": 40,
     "metadata": {},
     "output_type": "execute_result"
    }
   ],
   "source": [
    "a.shape[0] , b.shape[0]"
   ]
  },
  {
   "cell_type": "code",
   "execution_count": 41,
   "id": "a9f811d2",
   "metadata": {},
   "outputs": [
    {
     "name": "stdout",
     "output_type": "stream",
     "text": [
      "32\n"
     ]
    }
   ],
   "source": [
    "# 1.\n",
    "def vector_vector_multi(a, b):\n",
    "    n = a.shape[0]\n",
    "    result = 0\n",
    "    for i in range(n):\n",
    "        result += a[i] * b[i]\n",
    "    return result\n",
    "\n",
    "r = vector_vector_multi(a, b)\n",
    "print(r)\n",
    "\n",
    "\n"
   ]
  },
  {
   "cell_type": "code",
   "execution_count": 42,
   "id": "8d314bd3",
   "metadata": {},
   "outputs": [
    {
     "name": "stdout",
     "output_type": "stream",
     "text": [
      "32\n"
     ]
    }
   ],
   "source": [
    "# 2.\n",
    "r2 = a.dot(b)\n",
    "print(r2)"
   ]
  },
  {
   "cell_type": "markdown",
   "id": "babe079c",
   "metadata": {},
   "source": [
    "# 2. Matrix - vectore multiplication"
   ]
  },
  {
   "cell_type": "code",
   "execution_count": 43,
   "id": "08a68092",
   "metadata": {},
   "outputs": [
    {
     "data": {
      "text/plain": [
       "(3, 4)"
      ]
     },
     "execution_count": 43,
     "metadata": {},
     "output_type": "execute_result"
    }
   ],
   "source": [
    "u = np.array([[2, 4, 5, 6],\n",
    "             [1, 2, 1, 2],\n",
    "             [3, 1, 2, 1]])\n",
    "u.shape\n"
   ]
  },
  {
   "cell_type": "code",
   "execution_count": 44,
   "id": "afc720d3",
   "metadata": {},
   "outputs": [
    {
     "data": {
      "text/plain": [
       "4"
      ]
     },
     "execution_count": 44,
     "metadata": {},
     "output_type": "execute_result"
    }
   ],
   "source": [
    "v = np.array([1, 0, 0, 2])\n",
    "\n",
    "v.shape[0]"
   ]
  },
  {
   "cell_type": "code",
   "execution_count": 45,
   "id": "99f211f1",
   "metadata": {},
   "outputs": [
    {
     "data": {
      "text/plain": [
       "array([14.,  5.,  5.])"
      ]
     },
     "execution_count": 45,
     "metadata": {},
     "output_type": "execute_result"
    }
   ],
   "source": [
    "def matrix_vector_multi(u, v):\n",
    "    assert u.shape[1] == v.shape[0] # check if the number of columns in u is equal to the number of rows in v\n",
    "    m = u.shape[0] # number of rows in u\n",
    "    result = np.zeros(m)\n",
    "\n",
    "    for i in range(m):\n",
    "        result[i] = vector_vector_multi(u[i] , v)\n",
    "    return result\n",
    "\n",
    "matrix_vector_multi(u, v)"
   ]
  },
  {
   "cell_type": "markdown",
   "id": "32c62607",
   "metadata": {},
   "source": [
    "# 3. Matrix - Matrix multiplication"
   ]
  },
  {
   "cell_type": "code",
   "execution_count": null,
   "id": "2a0d95a7",
   "metadata": {},
   "outputs": [],
   "source": [
    "v = np.array([[1, 1, 2],\n",
    "             [0, 0.5, 1],\n",
    "             [0, 2, 1],\n",
    "             [2, 1, 0]])\n",
    "v.shape"
   ]
  },
  {
   "cell_type": "code",
   "execution_count": 47,
   "id": "7a2c0a73",
   "metadata": {},
   "outputs": [],
   "source": [
    "def matrix_matrix_multi(u, v):\n",
    "    assert u.shape[1] == v.shape[0]\n",
    "\n",
    "    num_rows_u = u.shape[0]\n",
    "    num_cols_v = v.shape[1]\n",
    "\n",
    "    result = np.zeros((num_rows_u, num_cols_v))\n",
    "\n",
    "    for i in range(num_rows_u):\n",
    "        for j in range(num_cols_v):\n",
    "            result[i, j] = vector_vector_multi(u[i], v[:, j])\n",
    "    return result\n",
    "\n"
   ]
  },
  {
   "cell_type": "code",
   "execution_count": 48,
   "id": "72cb4286",
   "metadata": {},
   "outputs": [],
   "source": [
    "# approach 2 \n",
    "# def matrix_matrix_multi(u, v):\n",
    "#     assert u.shape[1] == v.shape[0]\n",
    "#     num_rows_u = u.shape[0]\n",
    "#     num_cols_v = v.shape[1]\n",
    "\n",
    "#     result = np.zeros((num_rows_u, num_cols_v))\n",
    "\n",
    "#     for i in range(num_cols_v):\n",
    "#         result[:, i] = matrix_vector_multi(u, v[:, i])\n",
    "#     return result\n",
    "\n"
   ]
  },
  {
   "cell_type": "code",
   "execution_count": 49,
   "id": "29789faf",
   "metadata": {},
   "outputs": [
    {
     "data": {
      "text/plain": [
       "array([[14. , 20. , 13. ],\n",
       "       [ 5. ,  6. ,  5. ],\n",
       "       [ 5. ,  8.5,  9. ]])"
      ]
     },
     "execution_count": 49,
     "metadata": {},
     "output_type": "execute_result"
    }
   ],
   "source": [
    "matrix_matrix_multi(u, v)"
   ]
  },
  {
   "cell_type": "code",
   "execution_count": 50,
   "id": "f1307244",
   "metadata": {},
   "outputs": [
    {
     "data": {
      "text/plain": [
       "array([[14. , 20. , 13. ],\n",
       "       [ 5. ,  6. ,  5. ],\n",
       "       [ 5. ,  8.5,  9. ]])"
      ]
     },
     "execution_count": 50,
     "metadata": {},
     "output_type": "execute_result"
    }
   ],
   "source": [
    "# approach 3 - numpy function\n",
    "u.dot(v)"
   ]
  },
  {
   "cell_type": "markdown",
   "id": "bf46edba",
   "metadata": {},
   "source": [
    "# Identity Matrix"
   ]
  },
  {
   "cell_type": "code",
   "execution_count": 51,
   "id": "1e673c9f",
   "metadata": {},
   "outputs": [
    {
     "data": {
      "text/plain": [
       "array([[1., 0., 0.],\n",
       "       [0., 1., 0.],\n",
       "       [0., 0., 1.],\n",
       "       [0., 0., 0.]])"
      ]
     },
     "execution_count": 51,
     "metadata": {},
     "output_type": "execute_result"
    }
   ],
   "source": [
    "I = np.eye(4,3)\n",
    "I"
   ]
  },
  {
   "cell_type": "code",
   "execution_count": 52,
   "id": "737e8f05",
   "metadata": {},
   "outputs": [
    {
     "data": {
      "text/plain": [
       "array([[2., 4., 5.],\n",
       "       [1., 2., 1.],\n",
       "       [3., 1., 2.]])"
      ]
     },
     "execution_count": 52,
     "metadata": {},
     "output_type": "execute_result"
    }
   ],
   "source": [
    "u.dot(I)"
   ]
  },
  {
   "cell_type": "markdown",
   "id": "4f5fda02",
   "metadata": {},
   "source": [
    "# Inverse Matrix\n"
   ]
  },
  {
   "cell_type": "code",
   "execution_count": 87,
   "id": "8ea18d20",
   "metadata": {},
   "outputs": [
    {
     "data": {
      "text/plain": [
       "array([[2, 4, 5],\n",
       "       [1, 2, 1],\n",
       "       [3, 1, 2]])"
      ]
     },
     "execution_count": 87,
     "metadata": {},
     "output_type": "execute_result"
    }
   ],
   "source": [
    "\n",
    "A = np.array([[2, 4, 5],\n",
    "             [1, 2, 1],\n",
    "             [3, 1, 2],\n",
    "             [0, 2, 1]])\n",
    "A.shape\n",
    "As = A[[0, 1, 2]] # A need to be square matrix to able to do inverse\n",
    "\n",
    "As.shape\n",
    "As"
   ]
  },
  {
   "cell_type": "code",
   "execution_count": 88,
   "id": "73b76b9b",
   "metadata": {},
   "outputs": [
    {
     "data": {
      "text/plain": [
       "array([[-0.2       ,  0.2       ,  0.4       ],\n",
       "       [-0.06666667,  0.73333333, -0.2       ],\n",
       "       [ 0.33333333, -0.66666667, -0.        ]])"
      ]
     },
     "execution_count": 88,
     "metadata": {},
     "output_type": "execute_result"
    }
   ],
   "source": [
    "A_minus = np.linalg.inv(As)\n",
    "A_minus"
   ]
  },
  {
   "cell_type": "code",
   "execution_count": 90,
   "id": "974a1879",
   "metadata": {},
   "outputs": [
    {
     "data": {
      "text/plain": [
       "array([[ 1.00000000e+00, -5.55111512e-17,  0.00000000e+00],\n",
       "       [ 2.77555756e-17,  1.00000000e+00, -5.55111512e-17],\n",
       "       [ 0.00000000e+00,  0.00000000e+00,  1.00000000e+00]])"
      ]
     },
     "execution_count": 90,
     "metadata": {},
     "output_type": "execute_result"
    }
   ],
   "source": [
    "A_minus.dot(As)"
   ]
  }
 ],
 "metadata": {
  "kernelspec": {
   "display_name": "Python 3",
   "language": "python",
   "name": "python3"
  },
  "language_info": {
   "codemirror_mode": {
    "name": "ipython",
    "version": 3
   },
   "file_extension": ".py",
   "mimetype": "text/x-python",
   "name": "python",
   "nbconvert_exporter": "python",
   "pygments_lexer": "ipython3",
   "version": "3.12.1"
  }
 },
 "nbformat": 4,
 "nbformat_minor": 5
}
